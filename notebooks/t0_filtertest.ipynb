{
 "cells": [
  {
   "cell_type": "markdown",
   "metadata": {},
   "source": [
    "# Testing the Infant filter\n",
    "\n",
    "Will try to load the Infant filter and test it by parsing a tar of alerts."
   ]
  },
  {
   "cell_type": "code",
   "execution_count": null,
   "metadata": {},
   "outputs": [],
   "source": [
    "import logging\n",
    "logger = logging.getLogger()\n",
    "logger.setLevel(logging.DEBUG)"
   ]
  },
  {
   "cell_type": "markdown",
   "metadata": {},
   "source": [
    "First step is to load the filter, using the path specified in the `setup.py` file in the repository. \n"
   ]
  },
  {
   "cell_type": "code",
   "execution_count": null,
   "metadata": {},
   "outputs": [],
   "source": [
    "from ampel.contrib.weizmann.t0.InfantFilter import InfantFilter"
   ]
  },
  {
   "cell_type": "markdown",
   "metadata": {},
   "source": [
    "The full behaviour of a T0 unit is controlled by a set of parameters provided as `run_config`. We here directly specify these as a dictionary. When implemented for a live channel these constitue one entry to the `channel.json` main configuration file."
   ]
  },
  {
   "cell_type": "code",
   "execution_count": null,
   "metadata": {},
   "outputs": [],
   "source": [
    "runConfig = {\n",
    "                    \"MIN_NDET\": 1,\n",
    "                    \"MIN_TSPAN\": 0.02,\n",
    "                    \"MAX_TSPAN\": 4.5,\n",
    "                    \"MAX_TUL\": 2.5,\n",
    "                    \"MIN_RB\": 0.3,\n",
    "                    \"MIN_DRB\": 0.3,\n",
    "                    \"MIN_FWHM\": 0.5,\n",
    "                    \"MAX_FWHM\": 5.0,\n",
    "                    \"MAX_ELONG\": 100,\n",
    "                    \"MAX_MAGDIFF\": 0.75,\n",
    "                    \"MAX_NBAD\": 5,\n",
    "                    \"MIN_DIST_TO_SSO\": 20,\n",
    "                    \"MIN_GAL_LAT\": 14,\n",
    "                    \"GAIA_RS\": 40,\n",
    "                    \"GAIA_PM_SIGNIF\": 3,\n",
    "                    \"GAIA_PLX_SIGNIF\": 3,\n",
    "                    \"GAIA_VETO_GMAG_MIN\": 9,\n",
    "                    \"GAIA_VETO_GMAG_MAX\": 20,\n",
    "                    \"GAIA_EXCESSNOISE_SIG_MAX\": 999,\n",
    "                    \"PS1_SGVETO_RAD\": 2,\n",
    "                    \"PS1_SGVETO_SGTH\": 0.76,\n",
    "                    \"PS1_CONFUSION_RAD\": 3,\n",
    "                    \"PS1_CONFUSION_SG_TOL\": 0.1\n",
    "                    }\n"
   ]
  },
  {
   "cell_type": "code",
   "execution_count": null,
   "metadata": {},
   "outputs": [],
   "source": [
    "baseModel_runConfig = InfantFilter.RunConfig(**runConfig)"
   ]
  },
  {
   "cell_type": "code",
   "execution_count": null,
   "metadata": {},
   "outputs": [],
   "source": [
    "import os\n",
    "import urllib.request\n",
    "\n",
    "small_test_tar_url = 'https://ztf.uw.edu/alerts/public/ztf_public_20181129.tar.gz'\n",
    "small_test_tar_path = '/home/jnordin/data/ztfalerts/ztf_public_20181129.tar.gz'\n",
    "\n",
    "if not os.path.isfile(small_test_tar_path):\n",
    "    print('Downloading tar')\n",
    "    urllib.request.urlretrieve(small_test_tar_url, small_test_tar_path)\n"
   ]
  },
  {
   "cell_type": "markdown",
   "metadata": {},
   "source": [
    "The Decent does assume the catSHTM server to pe present. Have to write a nice workaraound for test cases when it is not."
   ]
  },
  {
   "cell_type": "code",
   "execution_count": null,
   "metadata": {},
   "outputs": [],
   "source": [
    "on_match_t2_units = []\n",
    "baseConfig = {'catsHTM.default':None}"
   ]
  },
  {
   "cell_type": "code",
   "execution_count": null,
   "metadata": {},
   "outputs": [],
   "source": [
    "from ampel.ztf.pipeline.t0.DevAlertProcessor import DevAlertProcessor\n",
    "\n",
    "my_filter = InfantFilter(on_match_t2_units, base_config=baseConfig, run_config=baseModel_runConfig, logger=logger)\n",
    "dap = DevAlertProcessor(my_filter, use_dev_alerts=True)"
   ]
  },
  {
   "cell_type": "code",
   "execution_count": null,
   "metadata": {},
   "outputs": [],
   "source": [
    "import time\n",
    "\n",
    "print (\"processing alerts from %s\" % small_test_tar_path)\n",
    "start = time.time()\n",
    "nproc = dap.process_tar(small_test_tar_path, iter_max=200)\n",
    "end = time.time()\n",
    "print (\"processed %d alerts in %.2e sec\"%(nproc, end-start))"
   ]
  },
  {
   "cell_type": "code",
   "execution_count": null,
   "metadata": {},
   "outputs": [],
   "source": [
    "n_good, n_bad = len(dap.get_accepted_alerts()), len(dap.get_rejected_alerts())\n",
    "print (\"%d alerts accepted by the filter (%.2f perc)\"%(n_good, 100*n_good/nproc))\n",
    "print (\"%d alerts rejected by the filter (%.2f perc)\"%(n_bad, 100*n_bad/nproc))"
   ]
  },
  {
   "cell_type": "code",
   "execution_count": null,
   "metadata": {},
   "outputs": [],
   "source": [
    "from ampel.ztf.view.AmpelAlertPlotter import AmpelAlertPlotter\n",
    "from random import choice\n",
    "\n",
    "accepted = dap.get_accepted_alerts()\n",
    "accepted_plot = AmpelAlertPlotter(interactive=True)"
   ]
  },
  {
   "cell_type": "code",
   "execution_count": null,
   "metadata": {},
   "outputs": [],
   "source": [
    "accepted_plot.summary_plot(choice(accepted))"
   ]
  }
 ],
 "metadata": {
  "kernelspec": {
   "display_name": "Python 3",
   "language": "python",
   "name": "python3"
  },
  "language_info": {
   "codemirror_mode": {
    "name": "ipython",
    "version": 3
   },
   "file_extension": ".py",
   "mimetype": "text/x-python",
   "name": "python",
   "nbconvert_exporter": "python",
   "pygments_lexer": "ipython3",
   "version": "3.7.3"
  }
 },
 "nbformat": 4,
 "nbformat_minor": 2
}
