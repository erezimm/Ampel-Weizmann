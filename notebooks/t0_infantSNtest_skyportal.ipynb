{
 "cells": [
  {
   "cell_type": "markdown",
   "metadata": {},
   "source": [
    "## Infant filter testing\n",
    "This shows how to test the Infant SN filter on fixed sets of alerts from summer 2020, and how the resulting alerts can subsequently be displayed in a (local) Skyportal instance. Look at https://github.com/AmpelProject/Ampel-notebooks/tree/master/ztf/skyportal for instructions on how to download and load a Skyportal docker container."
   ]
  },
  {
   "cell_type": "code",
   "execution_count": null,
   "metadata": {},
   "outputs": [],
   "source": [
    "from ampel.contrib.weizmann.t0.InfantFilter import InfantFilter\n",
    "from ampel.log.AmpelLogger import AmpelLogger, LogRecordFlag\n",
    "from ampel.ztf.dev.DevAlertProcessor import DevAlertProcessor\n",
    "from ampel.ztf.dev.DevSkyPortalClient import DevSkyPortalClient\n",
    "import os"
   ]
  },
  {
   "cell_type": "code",
   "execution_count": null,
   "metadata": {},
   "outputs": [],
   "source": [
    "logger = AmpelLogger.get_logger(console={\"level\": LogRecordFlag.WARNING})"
   ]
  },
  {
   "cell_type": "markdown",
   "metadata": {},
   "source": [
    "We have prepared three different alert collections for use with channel development. To make this managable, all transients mached to Gaia stars have been pre-cut. Beyond this, three further subsets exist:\n",
    "- HU_RAPID|HU_RAPID_SINGLE.tar.gz allows single detection alerts to pass, but only with very strict image quality constraints.\n",
    "- OKC_LENSED|HU_NEARBY_CLUSTERS|TRANSIENTS_IN_ELLIPTICAL.tar.gz contains alerts found close to known potential lens sources.\n",
    "- HU_TNS_PARTNER.tar.gz is a general purpose detection stream for extragalactic transients. It requires at least two detections. "
   ]
  },
  {
   "cell_type": "code",
   "execution_count": null,
   "metadata": {},
   "outputs": [],
   "source": [
    "def get_tarball(fname):\n",
    "    \"\"\"\n",
    "    Fetch tarball from DESY storage\n",
    "    \"\"\"\n",
    "    if not os.path.exists(fname):\n",
    "        try:\n",
    "            with requests.get(\n",
    "                \"https://desycloud.desy.de/index.php/s/bHqersp5xDqspNW/download\",\n",
    "                params={\"files\": fname},\n",
    "                stream=True\n",
    "            ) as response:\n",
    "                response.raise_for_status()\n",
    "                with tqdm.tqdm(\n",
    "                    total=int(response.headers['Content-Length']),\n",
    "                    mininterval=1,\n",
    "                    unit='byte',\n",
    "                    unit_scale=True,\n",
    "                ) as bar:\n",
    "                    with open(fname, 'wb') as f:\n",
    "                        for chunk in response.iter_content(chunk_size=1<<14):\n",
    "                            f.write(chunk)\n",
    "                            bar.update(len(chunk))\n",
    "        except:\n",
    "            try:\n",
    "                os.unlink(fname)\n",
    "            except:\n",
    "                ...\n",
    "            raise\n",
    "    return fname"
   ]
  },
  {
   "cell_type": "markdown",
   "metadata": {},
   "source": [
    "We next intiate a copy of the InfantFilter. All the usual parameters are available *except* the Gaia matching, `gaia_rs` has to be set to zero. Note that Gaia-based rejection has already been done. "
   ]
  },
  {
   "cell_type": "code",
   "execution_count": null,
   "metadata": {},
   "outputs": [],
   "source": [
    "t0filter =     InfantFilter(\n",
    "        min_drb=0.3,\n",
    "        min_ndet=2,\n",
    "        min_tspan=4.5,\n",
    "        max_ndet=99,\n",
    "        max_tul=2,\n",
    "        min_fwhm=0.5,\n",
    "        max_tspan = 50,\n",
    "        min_gal_lat=15,\n",
    "        min_rb = 0.3,\n",
    "        max_fwhm = 5.,\n",
    "        max_elong = 100,\n",
    "        max_magdiff = 0.75,\n",
    "        max_nbad = 5,\n",
    "        min_sso_dist = 10,\n",
    "        gaia_rs = 0,\n",
    "        gaia_pm_signif = 3,\n",
    "        gaia_plx_signif= 3,\n",
    "        gaia_veto_gmag_min= 9,\n",
    "        gaia_veto_gmag_max= 20,\n",
    "        gaia_excessnoise_sig_max= 999,\n",
    "        ps1_sgveto_rad= 2,\n",
    "        ps1_sgveto_th= 0.76,\n",
    "        ps1_confusion_rad= 3,\n",
    "        ps1_confusion_sg_tol= 0.1,        \n",
    "        logger=logger\n",
    "    )"
   ]
  },
  {
   "cell_type": "code",
   "execution_count": null,
   "metadata": {},
   "outputs": [],
   "source": [
    "# Initialize an alert processor based on this filter\n",
    "ap = DevAlertProcessor( t0filter,  include_cutouts=False )"
   ]
  },
  {
   "cell_type": "code",
   "execution_count": null,
   "metadata": {},
   "outputs": [],
   "source": [
    "# Select tarfile\n",
    "#tarfile = 'HU_RAPID|HU_RAPID_SINGLE.tar.gz'\n",
    "tarfile = 'HU_TNS_PARTNER.tar.gz'"
   ]
  },
  {
   "cell_type": "markdown",
   "metadata": {},
   "source": [
    "Next the real alert processing will occur. The number of alerts processed is controlled by the 'iter_max' parameter. Start with a small number for first tests. Traversing the full alert collection can be timeconsuming."
   ]
  },
  {
   "cell_type": "code",
   "execution_count": null,
   "metadata": {},
   "outputs": [],
   "source": [
    "# Using the rapid preselection\n",
    "n_processed = ap.process_tar(\n",
    "    get_tarball(tarfile), iter_max=1000\n",
    ")\n"
   ]
  },
  {
   "cell_type": "code",
   "execution_count": null,
   "metadata": {},
   "outputs": [],
   "source": [
    "print('Processed %s alerts out of which %s were accepted'%(n_processed,len(ap.get_accepted_alerts())))"
   ]
  },
  {
   "cell_type": "markdown",
   "metadata": {},
   "source": [
    "The next step is to upload these alerts to a SkyPortal instance. The first step is to obtain a (root) token, after which a client will upload the alerts."
   ]
  },
  {
   "cell_type": "code",
   "execution_count": null,
   "metadata": {},
   "outputs": [],
   "source": [
    "# The first method is to go through the frontend:\n",
    "# Switch to admin through http://localhost:5000/become_user/1\n",
    "# copy the root token\n",
    "#\n",
    "# Otherwise through terminal \n",
    "# If you can access docker client through notebook (typically requires root)\n",
    "# root_token = next(iter(yaml.safe_load(io.BytesIO(subprocess.check_output([\"docker\", \"exec\", \"skyportal_web_1\", \"cat\", \".tokens.yaml\"]))).values()))\n",
    "# Otherwise edit this to match output of:\n",
    "# 'sudo docker exec skyportal_web_1 cat .tokens.yaml'\n",
    "root_token = \"45566190-de3d-4e7d-ac31-1f89600bc0c8\"\n",
    "root_token"
   ]
  },
  {
   "cell_type": "code",
   "execution_count": null,
   "metadata": {},
   "outputs": [],
   "source": [
    "client = DevSkyPortalClient(root_token=root_token)"
   ]
  },
  {
   "cell_type": "code",
   "execution_count": null,
   "metadata": {},
   "outputs": [],
   "source": [
    "for alert in ap.get_accepted_alerts():\n",
    "    client.post_alert(alert)"
   ]
  },
  {
   "cell_type": "code",
   "execution_count": null,
   "metadata": {},
   "outputs": [],
   "source": []
  }
 ],
 "metadata": {
  "kernelspec": {
   "display_name": "Python 3",
   "language": "python",
   "name": "python3"
  },
  "language_info": {
   "codemirror_mode": {
    "name": "ipython",
    "version": 3
   },
   "file_extension": ".py",
   "mimetype": "text/x-python",
   "name": "python",
   "nbconvert_exporter": "python",
   "pygments_lexer": "ipython3",
   "version": "3.8.2"
  }
 },
 "nbformat": 4,
 "nbformat_minor": 4
}
